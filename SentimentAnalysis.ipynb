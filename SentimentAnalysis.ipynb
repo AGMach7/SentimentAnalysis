{
 "cells": [
  {
   "attachments": {},
   "cell_type": "markdown",
   "id": "92eefc9b",
   "metadata": {},
   "source": [
    "<h1 style=\"color:red; text-align:center; font-weight:bold\"> Sentiment Analysis </h1>"
   ]
  },
  {
   "attachments": {},
   "cell_type": "markdown",
   "id": "63cbb141",
   "metadata": {},
   "source": [
    "First we will install the `findspark` package, which is a Python library that helps to locate the __Apache Spark__ installation on a _local machine_. \n",
    "\n",
    "When `findspark` is installed, it adds the necessary environment variables to the current Python session, so that Spark can be easily accessed and used from within a Python script or notebook. This makes it easier to work with Spark without having to configure environment variables manually."
   ]
  },
  {
   "cell_type": "code",
   "execution_count": 10,
   "id": "4419ad68",
   "metadata": {},
   "outputs": [],
   "source": [
    "# pip install findspark"
   ]
  },
  {
   "attachments": {},
   "cell_type": "markdown",
   "id": "5f5ccae7",
   "metadata": {},
   "source": [
    "<h3 style=\"color:green\"> Prepare the environment: </h3>"
   ]
  },
  {
   "attachments": {},
   "cell_type": "markdown",
   "id": "8af4b206",
   "metadata": {},
   "source": [
    "Now, we should search for the Spark installation directory and sets the required environment variables like __SPARK_HOME__ and __PYSPARK_PYTHON__ (path to the Python executable), which are needed for running Spark applications from a Python environment.\n",
    "\n",
    "By running `findspark.init()` in a Python script or notebook, it makes it possible to use the PySpark API, which is the Python API for Spark, and access Spark's distributed computing capabilities from within your Python environment."
   ]
  },
  {
   "cell_type": "code",
   "execution_count": 11,
   "id": "f3c0a90b",
   "metadata": {},
   "outputs": [],
   "source": [
    "import findspark\n",
    "findspark.init()"
   ]
  },
  {
   "attachments": {},
   "cell_type": "markdown",
   "id": "240cf2c6",
   "metadata": {},
   "source": [
    "Let's import modules and classes from the PySpark library and creates a SparkSession object. "
   ]
  },
  {
   "cell_type": "code",
   "execution_count": 12,
   "id": "e1c82bc5",
   "metadata": {},
   "outputs": [],
   "source": [
    "import matplotlib.pyplot as plt\n",
    "from tabulate import tabulate\n",
    "\n",
    "from pyspark.sql import SparkSession\n",
    "\n",
    "from pyspark.sql.functions import lit\n",
    "from pyspark.sql.functions import rand\n",
    "from pyspark.sql.functions import regexp_replace\n",
    "\n",
    "from pyspark.sql.types import *\n",
    "from pyspark.sql.functions import *\n",
    "\n",
    "from pyspark.ml.classification import LogisticRegression, LinearSVC\n",
    "from pyspark.ml.feature import HashingTF, Tokenizer, StopWordsRemover\n",
    "from pyspark.ml.evaluation import BinaryClassificationEvaluator, MulticlassClassificationEvaluator"
   ]
  },
  {
   "attachments": {},
   "cell_type": "markdown",
   "id": "ccf22262",
   "metadata": {},
   "source": [
    "Initializing the ANSI escape codes to color the output in case of need"
   ]
  },
  {
   "cell_type": "code",
   "execution_count": 13,
   "id": "10afb44a",
   "metadata": {},
   "outputs": [],
   "source": [
    "# Color code constants\n",
    "COLOR_RED = \"\\u001b[38;5;124m\"\n",
    "COLOR_MAGENTA = \"\\033[95m\"\n",
    "COLOR_RESET = \"\\033[0m\""
   ]
  },
  {
   "attachments": {},
   "cell_type": "markdown",
   "id": "470af3f4",
   "metadata": {},
   "source": [
    "Initializing the data paths"
   ]
  },
  {
   "cell_type": "code",
   "execution_count": 14,
   "id": "a1c17f53",
   "metadata": {},
   "outputs": [],
   "source": [
    "train_pos_path = \"aclImdb/train/pos/\"\n",
    "train_neg_path = \"aclImdb/train/neg/\"\n",
    "test_pos_path = \"aclImdb/test/pos/\"\n",
    "test_neg_path = \"aclImdb/test/neg/\""
   ]
  },
  {
   "attachments": {},
   "cell_type": "markdown",
   "id": "5ca94ceb",
   "metadata": {},
   "source": [
    "Data folder hierarchy"
   ]
  },
  {
   "attachments": {},
   "cell_type": "markdown",
   "id": "602c247c",
   "metadata": {},
   "source": [
    "```shell\n",
    ".\n",
    "├── aclImdb\n",
    "    ├── train\n",
    "    |   ├── pos\n",
    "    |   |   ├── 0_9.txt\n",
    "    |   |   ├── 23_7.txt\n",
    "    |   |   └── ...\n",
    "    |   └── neg\n",
    "    |       ├── 0_3.txt \n",
    "    |       ├── 10_2.txt\n",
    "    |       └── ...\n",
    "    └── test\n",
    "        ├── pos\n",
    "        |   ├── 30_9.txt\n",
    "        |   ├── 24_10.txt\n",
    "        |   └── ...\n",
    "        └── neg\n",
    "            ├── 6_3.txt\n",
    "            ├── 25_3.txt\n",
    "            └── ..."
   ]
  },
  {
   "attachments": {},
   "cell_type": "markdown",
   "id": "48852788",
   "metadata": {},
   "source": [
    "Creates a SparkSession object named spark with the name \"Project 1\""
   ]
  },
  {
   "cell_type": "code",
   "execution_count": 15,
   "id": "67f24fec",
   "metadata": {},
   "outputs": [],
   "source": [
    "spark = SparkSession.builder.appName(\"Project 1\").getOrCreate()"
   ]
  },
  {
   "attachments": {},
   "cell_type": "markdown",
   "id": "c64d16ad",
   "metadata": {},
   "source": [
    "Creates a Tokenizer object named tokenizer with the input column named \"value\" and the output column named \"words\". \n",
    "Creates a StopWordsRemover object named swr with the input column set to the output column of the tokenizer object and the output column named \"MeaningfulWords\"."
   ]
  },
  {
   "cell_type": "code",
   "execution_count": 16,
   "id": "4b7f162b",
   "metadata": {},
   "outputs": [],
   "source": [
    "tokenizer = Tokenizer(inputCol=\"value\", outputCol=\"words\")\n",
    "\n",
    "swr = StopWordsRemover(inputCol=tokenizer.getOutputCol(), outputCol=\"MeaningfulWords\")"
   ]
  },
  {
   "attachments": {},
   "cell_type": "markdown",
   "id": "ef51113f",
   "metadata": {},
   "source": [
    "<h3 style=\"color:green\"> Import Data: </h3>"
   ]
  },
  {
   "attachments": {},
   "cell_type": "markdown",
   "id": "8c7305f6",
   "metadata": {},
   "source": [
    "Let's read all the text files containing __positive__ movie reviews, for that we will create a `Spark DataFrame` with two columns:\n",
    " - \"`value`\" containing the text of each review\n",
    " - \"`label`\" indicating whether the review is positive or negative. \n",
    " \n",
    "In this case, the \"__label__\" column is set to __1__ for all rows since these are positive reviews."
   ]
  },
  {
   "cell_type": "code",
   "execution_count": 17,
   "id": "56ed3dd8",
   "metadata": {},
   "outputs": [],
   "source": [
    "pos_reviews = spark.read.option(\"wholeTextFiles\", \"true\").text(train_pos_path)\n",
    "\n",
    "pos_reviews = pos_reviews.withColumn(\"label\", lit(1))"
   ]
  },
  {
   "attachments": {},
   "cell_type": "markdown",
   "id": "79ab93f7",
   "metadata": {},
   "source": [
    "Let's take a look on the basic information about the `pos_reviews` DataFrame: data type, column names, and number of rows..."
   ]
  },
  {
   "cell_type": "code",
   "execution_count": 18,
   "id": "e8ead8c9",
   "metadata": {},
   "outputs": [
    {
     "name": "stdout",
     "output_type": "stream",
     "text": [
      "The type of \u001b[38;5;124mpos_reviews\u001b[0m is: <class 'pyspark.sql.dataframe.DataFrame'>\n",
      "Columns of the \u001b[38;5;124mpos_reviews\u001b[0m dataframe are: ['value', 'label']\n"
     ]
    },
    {
     "name": "stdout",
     "output_type": "stream",
     "text": [
      "The number of rows in \u001b[38;5;124mpos_reviews\u001b[0m is: 12500\n",
      "The first row of the \u001b[38;5;124mpos_reviews\u001b[0m dataframe is:\n",
      "  \u001b[95mvalue\u001b[0m: Match 1: Tag Team Table Match Bubba Ray and Spike Dudley vs Eddie Guerrero and Chris Benoit Bubba Ray and Spike Dudley started things off with a Tag Team Table Match against Eddie Guerrero and Chris Benoit. According to the rules of the match, both opponents have to go through tables in order to get the win. Benoit and Guerrero heated up early on by taking turns hammering first Spike and then Bubba Ray. A German suplex by Benoit to Bubba took the wind out of the Dudley brother. Spike tried to help his brother, but the referee restrained him while Benoit and Guerrero ganged up on him in the corner. With Benoit stomping away on Bubba, Guerrero set up a table outside. Spike dashed into the ring and somersaulted over the top rope onto Guerrero on the outside! After recovering and taking care of Spike, Guerrero slipped a table into the ring and helped the Wolverine set it up. The tandem then set up for a double superplex from the middle rope which would have put Bubba through the table, but Spike knocked the table over right before his brother came crashing down! Guerrero and Benoit propped another table in the corner and tried to Irish Whip Spike through it, but Bubba dashed in and blocked his brother. Bubba caught fire and lifted both opponents into back body drops! Bubba slammed Guerrero and Spike stomped on the Wolverine from off the top rope. Bubba held Benoit at bay for Spike to soar into the Wassup! headbutt! Shortly after, Benoit latched Spike in the Crossface, but the match continued even after Spike tapped out. Bubba came to his brother's rescue and managed to sprawl Benoit on a table. Bubba leapt from the middle rope, but Benoit moved and sent Bubba crashing through the wood! But because his opponents didn't force him through the table, Bubba was allowed to stay in the match. The first man was eliminated shortly after, though, as Spike put Eddie through a table with a Dudley Dawg from the ring apron to the outside! Benoit put Spike through a table moments later to even the score. Within seconds, Bubba nailed a Bubba Bomb that put Benoit through a table and gave the Dudleys the win! Winner: Bubba Ray and Spike Dudley<br /><br />Match 2: Cruiserweight Championship Jamie Noble vs Billy Kidman Billy Kidman challenged Jamie Noble, who brought Nidia with him to the ring, for the Cruiserweight Championship. Noble and Kidman locked up and tumbled over the ring, but raced back inside and grappled some more. When Kidman thwarted all Noble's moves, Noble fled outside the ring where Nidia gave him some encouragement. The fight spread outside the ring and Noble threw his girlfriend into the challenger. Kidman tossed Nidia aside but was taken down with a modified arm bar. Noble continued to attack Kidman's injured arm back in the ring. Kidman's injured harm hampered his offense, but he continued to battle hard. Noble tried to put Kidman away with a powerbomb but the challenger countered into a facebuster. Kidman went to finish things with a Shooting Star Press, but Noble broke up the attempt. Kidman went for the Shooting Star Press again, but this time Noble just rolled out of harm's way. Noble flipped Kidman into a power bomb soon after and got the pin to retain his WWE Cruiserweight Championship! Winner: Jamie Noble<br /><br />Match 3: European Championship William Regal vs Jeff Hardy William Regal took on Jeff Hardy next in an attempt to win back the European Championship. Jeff catapulted Regal over the top rope then took him down with a hurracanrana off the ring apron. Back in the ring, Jeff hit the Whisper in the wind to knock Regal for a loop. Jeff went for the Swanton Bomb, but Regal got his knees up to hit Jeff with a devastating shot. Jeff managed to surprise Regal with a quick rollup though and got the pin to keep the European Championship! Regal started bawling at seeing Hardy celebrate on his way back up the ramp. Winner: Jeff Hardy<br /><br />Match 4: Chris Jericho vs John Cena Chris Jericho had promised to end John Cena's career in their match at Vengeance, which came up next. Jericho tried to teach Cena a lesson as their match began by suplexing him to the mat. Jericho continued to knock Cena around the ring until his cockiness got the better of him. While on the top rope, Jericho began to showboat and allowed Cena to grab him for a superplex! Cena followed with a tilt-a-whirl slam but was taken down with a nasty dropkick to the gut. The rookie recovered and hit a belly to belly suplex but couldn't put Y2J away. Jericho launched into the Lionsault but Cena dodged the move. Jericho nailed a bulldog and then connected on the Lionsault, but did not go for the cover. He goaded Cena to his feet so he could put on the Walls of Jericho. Cena had other ideas, reversing the move into a pin attempt and getting the 1-2-3! Jericho went berserk after the match. Winner: John Cena<br /><br />Match 5: Intercontinental Championship RVD vs Brock Lesnar via disqualification The Next Big Thing and Mr. Pay-Per-View tangled with the Intercontinental Championship on the line. Brock grabbed the title from the ref and draped it over his shoulder momentarily while glaring at RVD. Van Dam 's quickness gave Brock fits early on. The big man rolled out of the ring and kicked the steel steps out of frustration. Brock pulled himself together and began to take charge. With Paul Heyman beaming at ringside, Brock slammed RVD to the hard floor outside the ring. From there, Brock began to overpower RVD, throwing him with ease over the top rope. RVD landed painfully on his back, then had to suffer from having his spine cracked against the steel ring steps. The fight returned to the ring with Brock squeezing RVD around the ribs. RVD broke away and soon after leveled Brock with a kick to the temple. RVD followed with the Rolling Thunder but Brock managed to kick out after a two-count. The fight looked like it might be over soon as RVD went for a Five-Star Frog Splash. Brock, though, hoisted Van Dam onto his shoulder and went for the F-5, but RVD whirled Brock into a DDT and followed with the Frog Splash! He went for the pin, but Heyman pulled the ref from the ring! The ref immediately called for a disqualification and soon traded blows with Heyman! After, RVD leapt onto Brock from the top rope and then threatened to hit the Van Terminator! Heyman grabbed RVD's leg and Brock picked up the champ and this time connected with the F-5 onto a steel chair! Winner: RVD<br /><br />Match 6: Booker T vs the Big Show Booker T faced the Big Show one-on-one next. Show withstood Booker T's kicks and punches and slapped Booker into the corner. After being thrown from the ring, Booker picked up a chair at ringside, but Big Show punched it back into Booker's face. Booker tried to get back into the game by choking Show with a camera cable at ringside. Booker smashed a TV monitor from the Spanish announcers' position into Show's skull, then delivered a scissors kick that put both men through the table! Booker crawled back into the ring and Big Show staggered in moments later. Show grabbed Booker's throat but was met by a low blow and a kick to the face. Booker climbed the top rope and nailed a somersaulting leg drop to get the pin! Winner: Booker T<br /><br />Announcement: Triple H entered the ring to a thunderous ovation as fans hoped to learn where The Game would end up competing. Before he could speak, Eric Bishoff stopped The Game to apologize for getting involved in his personal business. If Triple H signed with RAW, Bischoff promised his personal life would never come into play again. Bischoff said he's spent the past two years networking in Hollywood. He said everyone was looking for the next breakout WWE Superstar, and they were all talking about Triple H. Bischoff guaranteed that if Triple H signed with RAW, he'd be getting top opportunities coming his way. Stephanie McMahon stepped out to issue her own pitch. She said that because of her personal history with Triple H, the two of them know each other very well. She said the two of them were once unstoppable and they can be again. Bischoff cut her off and begged her to stop. Stephanie cited that Triple H once told her how Bischoff said Triple H had no talent and no charisma. Bischoff said he was young at the time and didn't know what he had, but he still has a lot more experience that Stephanie. The two continued to bicker back and forth, until Triple H stepped up with his microphone. The Game said it would be easy to say \"screw you\" to either one of them. Triple H went to shake Bischoff's hand, but pulled it away. He said he would rather go with the devil he knows, rather than the one he doesn't know. Before he could go any further, though, Shawn Michaels came out to shake things up. HBK said the last thing he wanted to do was cause any trouble. He didn't want to get involved, but he remembered pledging to bring Triple H to the nWo. HBK said there's nobody in the world that Triple H is better friends with. HBK told his friend to imagine the two back together again, making Bischoff's life a living hell. Triple H said that was a tempting offer. He then turned and hugged HBK, making official his switch to RAW! Triple H and HBK left, and Bischoff gloated over his victory. Bischoff said the difference between the two of them is that he's got testicles and she doesn't. Stephanie whacked Bischoff on the side of the head and left!<br /><br />Match 7: Tag Team Championship Match Christian and Lance Storm vs Hollywood Hogan and Edge The match started with loud \"USA\" chants and with Hogan shoving Christian through the ropes and out of the ring. The Canadians took over from there. But Edge scored a kick to Christian's head and planted a facebuster on Storm to get the tag to Hogan. Hogan began to Hulk up and soon caught Christian with a big boot and a leg drop! Storm broke up the count and Christian tossed Hogan from the ring where Storm superkicked the icon. Edge tagged in soon after and dropped both opponents. He speared both of them into the corner turnbuckles, but missed a spear on Strom and hit the ref hard instead. Edge nailed a DDT, but the ref was down and could not count. Test raced down and took down Hogan then leveled Edge with a boot. Storm tried to get the pin, but Edge kicked out after two. Riksihi sprinted in to fend off Test, allowing Edge to recover and spear Storm. Christian distracted the ref, though, and Y2J dashed in and clocked Edge with the Tag Team Championship! Storm rolled over and got the pinfall to win the title! Winners and New Tag Team Champions: Christian and Lance Storm<br /><br />Match 8: WWE Undisputed Championship Triple Threat Match. The Rock vs Kurt Angle and the Undertaker Three of WWE's most successful superstars lined up against each other in a Triple Threat Match with the Undisputed Championship hanging in the balance. Taker and The Rock got face to face with Kurt Angle begging for some attention off to the side. He got attention in the form of a beat down form the two other men. Soon after, Taker spilled out of the ring and The Rock brawled with Angle. Angle gave a series of suplexes that took down Rock, but the Great One countered with a DDT that managed a two-count. The fight continued outside the ring with Taker coming to life and clotheslining Angle and repeatedly smacking The Rock. Taker and Rock got into it back into the ring, and Taker dropped The Rock with a sidewalk slam to get a two-count. Rock rebounded, grabbed Taker by the throat and chokeslammed him! Angle broke up the pin attempt that likely would have given The Rock the title. The Rock retaliated by latching on the ankle lock to Kurt Angle. Angle reversed the move and Rock Bottomed the People's Champion. Soon after, The Rock disposed of Angle and hit the People's Elbow on the Undertaker. Angle tried to take advantage by disabling the Great One outside the ring and covering Taker, who kicked out after a two count. Outside the ring, Rock took a big swig from a nearby water bottle and spewed the liquid into Taker's face to blind the champion. Taker didn't stay disabled for long, and managed to overpower Rock and turn his attention to Angle. Taker landed a guillotine leg drop onto Angle, laying on the ring apron. The Rock picked himself up just in time to break up a pin attempt on Kurt Angle. Taker nailed Rock with a DDT and set him up for a chokeslam. ANgle tried sneaking up with a steel chair, but Taker caught on to that tomfoolery and smacked it out of his hands. The referee got caught in the ensuing fire and didn't see Angle knock Taker silly with a steel chair. Angle went to cover Taker as The Rock lay prone, but the Dead Man somehow got his shoulder up. Angle tried to pin Rock, but he too kicked out. The Rock got up and landed Angle in the sharpshooter! Angle looked like he was about to tap, but Taker kicked The Rock out of the submission hold. Taker picked Rock up and crashed him with the Last Ride. While the Dead Man covered him for the win, Angle raced in and picked Taker up in the ankle lock! Taker went delirious with pain, but managed to counter. He picked Angle up for the last ride, but Angle put on a triangle choke! It looked like Taker was about to pass out, but The Rock broke Angle's hold only to find himself caught in the ankle lock. Rock got out of the hold and watched Taker chokeslam Angle. Rocky hit the Rock Bottom, but Taker refused to go down and kicked out. Angle whirled Taker up into the Angle Slam but was Rock Bottomed by the Great One and pinned! Winner and New WWE Champion: The Rock<br /><br />~Finally there is a decent PPV! Lately the PPV weren't very good, but this one was a winner. I give this PPV a A-<br /><br />\n",
      "  \u001b[95mlabel\u001b[0m: 1\n"
     ]
    }
   ],
   "source": [
    "print(f\"The type of {COLOR_RED}pos_reviews{COLOR_RESET} is: {type(pos_reviews)}\")\n",
    "print(f\"Columns of the {COLOR_RED}pos_reviews{COLOR_RESET} dataframe are: {pos_reviews.columns}\")\n",
    "print(f\"The number of rows in {COLOR_RED}pos_reviews{COLOR_RESET} is: {pos_reviews.count()}\")\n",
    "\n",
    "premiere_ligne = pos_reviews.first()\n",
    "print(f\"The first row of the {COLOR_RED}pos_reviews{COLOR_RESET} dataframe is:\")\n",
    "print(f\"  {COLOR_MAGENTA}value{COLOR_RESET}: {premiere_ligne['value']}\")\n",
    "print(f\"  {COLOR_MAGENTA}label{COLOR_RESET}: {premiere_ligne['label']}\")"
   ]
  },
  {
   "attachments": {},
   "cell_type": "markdown",
   "id": "24d3065e",
   "metadata": {},
   "source": [
    "We'll do the some thing with the negative reviews, we'll read all the text files containing __negative__ movie reviews, and set the \"__label__\" column to __0__ for all rows."
   ]
  },
  {
   "cell_type": "code",
   "execution_count": 19,
   "id": "ada21d88",
   "metadata": {},
   "outputs": [],
   "source": [
    "neg_reviews = spark.read.option(\"wholeTextFiles\", \"true\").text(train_neg_path)\n",
    "\n",
    "neg_reviews = neg_reviews.withColumn(\"label\", lit(0))"
   ]
  },
  {
   "cell_type": "code",
   "execution_count": 20,
   "id": "13833ffc",
   "metadata": {},
   "outputs": [
    {
     "name": "stdout",
     "output_type": "stream",
     "text": [
      "The type of \u001b[38;5;124mneg_reviews\u001b[0m is: <class 'pyspark.sql.dataframe.DataFrame'>\n",
      "Columns of the \u001b[38;5;124mneg_reviews\u001b[0m dataframe are: ['value', 'label']\n",
      "The number of rows in \u001b[38;5;124mneg_reviews\u001b[0m is: 12500\n",
      "The first row of the \u001b[38;5;124mneg_reviews\u001b[0m dataframe is:\n",
      "  \u001b[95mvalue\u001b[0m: Some have praised _Atlantis:_The_Lost_Empire_ as a Disney adventure for adults. I don't think so--at least not for thinking adults.<br /><br />This script suggests a beginning as a live-action movie, that struck someone as the type of crap you cannot sell to adults anymore. The \"crack staff\" of many older adventure movies has been done well before, (think _The Dirty Dozen_) but _Atlantis_ represents one of the worse films in that motif. The characters are weak. Even the background that each member trots out seems stock and awkward at best. An MD/Medicine Man, a tomboy mechanic whose father always wanted sons, if we have not at least seen these before, we have seen mix-and-match quirks before. The story about how one companion, Vinny played by Don Novello (Fr. Guido Sarducci), went from flower stores to demolitions totally unconvincing.<br /><br />Only the main character, Milo Thatch, a young Atlantis-obsessed academic voiced by Michael J. Fox, has any depth to him. Milo's search for Atlantis continues that of his grandfather who raised him. The opening scene shows a much younger Milo giddily perched on a knee, as his grandfather places his pith helmet on his head.<br /><br />And while the characters were thin at best, the best part about _Atlantis_ was the voice talent. Perhaps Milo's depth is no thicker than Fox's charm. Commander Rourke loses nothing being voiced by James Garner. Although Rourke is a pretty stock military type, Garner shows his ability to breath life into characters simply by his delivery. Garner's vocal performance is the high point. I'm sorry to say Leonard Nimoy's Dying King is nothing more than obligatory. Additionally, Don Novello as the demolition expert, Vinny Santorini, was also notable for one or two well-done, funny lines--but I've always liked Father Guido Sarducci, anyway. <br /><br />Also well done was the Computer Animation. The BACKGROUND animation, that is. The character animation has not been this bad for Disney since the minimalism that drove Don Bluth out the door. The character animation does nothing if not make already flat characters appear even flatter. Aside from landscapes, buildings and vehicles there isn't much to impress.<br /><br />The plot was the worst. Some say hackneyed or trite. I'm not so sure about that. Any serviceable plot can be made into something new with the proper treatment. Shakespeare often started from a known story and plot and was famous only for putting on a new coat of paint. So the treatment is the thing. And _Atlantis_ obviously lacks that.<br /><br />I cannot begin to go into all the logic gaps without a spoiler section. The plot was bad. The plot's bridges snap like twine and the ending does not make sense. To add to that, the script and the animation is peppered with annoying sloppiness.<br /><br />** SPOILERS **<br /><br />1. Right at the beginning when Milo reveals that runic or Celtic symbols have been wrongly transliterated and the \"Coast of Ireland\" should read the \"Coast of Iceland\", we begin to have problems. The writers of the script would need to know the British take for Eire or Eireann as \"Ireland\", and completely ignore the older, Latin term Hibernia. But more than this, they need to know of the Vikings conspiracy to call the greener island Iceland and the icier island Greenland. <br /><br />By making it the matter of a mis-tranliterated \"letter\", the writers have doomed themselves to requiring a runic version of English and a post-Roman date on the script. Since this is long after Atlantis was supposed to have sunk into its undersea cave. And without visible clues and less technology than Milo had, made the inscription far less trustworthy.<br /><br />2. The Shepard's Journal could not be written before the sinking of Atlantis, or it would know nothing about the cave or the crystal lying \"in the King's eye\". It must have been written after the sinking, but without even the technology that Milo's expedition had, how the heck did anybody get by the Leviathan. So how could it know more about anything after that? And why would it be written in Atlantian? <br /><br />Automatic writing and clairvoyance or astral travel can explain these things. However clairvoyance and astral travel do not require the shepard to write in Atlantian. So it's got to be some sort automatic writing. Since noone left in Atlantis can read, it must be the spirits of the crystal beaming messages to the surface. This would have made more sense. But could also have been explained within the movie: Milo could have discovered that this power had been calling him all his life--appeared in dreams, etc. This needed to be explored in the movie.<br /><br />3. The Atlantians should simply not be able to comprehend modern languages. No-one expects that the original Indo-Europeans would be able to converse in Europe, anymore than Romans would understand that hard \"c\"s or their day became French \"ch\"s (pronounced like \"sh\"s, no less!)<br /><br />4. Current Atlantians were alive before the cataclysm--when apparently they *could* read, yet now are unable to read what they used to, or operate similar machinery. <br /><br />5. The Mass Illiteracy points out a crucial flaw in the movie. NOTHING seems to have happened to this culture. It seems suspended in air until Milo can rescue it. Even though it appears that life is not a constant struggle for survival, no-one wants to compose poetry or write novels and perhaps it is a combination of Atlantian school systems going downhill toward the end and lack of good fiction that caused Atlantis to fall into illiteracy.<br /><br />5. Kida can be excused for not knowing how to read or operate the machinery if she was so young when the Cataclysm of Stupidity set in--But ANY OF IT **HARDLY** qualifies her father for Deification!! Kashakim's foolishness almost single-handedly wiped his people from existence. Killed a bunch in the cataclysm, stalled progress (not a lot killed here, but he oversaw a massive slide in culture and progress) until someone could take the crystal to kill everybody, if they weren't boiled in lava first because the Giant Robots weren't there to protect them. <br /><br />A bolt of blue electricity should have shattered Kashakim's likeness, when Kida tried joining her father's image to the circle of GREAT Kings of Atlantis! <br /><br />6. Even though Milo was the only one who could read Atlantian, Rourke and others knew enough to look through a book of gibberish and find a page on a crystal--which he knew to be a crystal and not some stylized astrological or \"phases of the sun\" diagram.<br /><br />7. If Milo's grandfather had told Rourke about it, it still does not explain what how Rourke would have suffered from Milo's reading it as part of the book. Ripping out the page--which was dog-eared in Rourke's hand, even though Milo found NO sign of a torn page in the book apparently--only was there to tip off the viewer that \"something was not quite right\". Unless the word \"crystal\" would have set alarms off in Milo's head that somebody would try to steal it, Milo would have suspected nothing. It's just thick-headed foreshadowing.<br /><br />8. The crew's \"double-cross\" was not a character change. We learned that Vinny, Sweet, Audrey and Cookie had been going along with Rourke from the beginning. However, the \"change of heart\" falls flat. It was a change, and needed to be better motivated. Hard to do with characters who weren't given anything to begin with.<br /><br />9. Niggling little bit that the lava flows up over the dome, instead of filling in the rest of the area that we view the sequence from. It's liquid; it will not flow over the protective dome until it fills up all lower areas.<br /><br />10. The ending STINKS!-- and makes no sense other than to appease political correctness. With it's powersource restored, Atlantis is no longer a weak power, needing coddling. The giant robot guardians and the sky-cycles shooting blue lightning suggest that they have less to fear from us than they might. The technology is superior to ours, and definitely to early 20th-century. In the end Milo needs to teach the Atlantians to read, for what? The whole idea is to leave their little quiet, chastened culture alone, not to send it into hyperdrive. <br /><br />** END SPOILERS **<br /><br />Perhaps, the Lost World plot and the turn-of-the-century setting should give me a hint that this is more an homage to pulps. The failures I find with the film agree with this idea. But I am at a loss why I should pay to see thin characters and plot holes simply because many dime novels had them as well. And pulp stories is part of the \"crap they can't sell adults anymore\", anyway. We have become a bit more sophisticated and our pulp needs to grow up as well. Raiders of the Lost Ark lost none of its pulp feel and avoided so much badness.<br /><br />4 out of 10--the movie is enjoyable but as I think about the plot, it seeps ever lower.\n",
      "  \u001b[95mlabel\u001b[0m: 0\n"
     ]
    }
   ],
   "source": [
    "print(f\"The type of {COLOR_RED}neg_reviews{COLOR_RESET} is: {type(neg_reviews)}\")\n",
    "print(f\"Columns of the {COLOR_RED}neg_reviews{COLOR_RESET} dataframe are: {neg_reviews.columns}\")\n",
    "print(f\"The number of rows in {COLOR_RED}neg_reviews{COLOR_RESET} is: {neg_reviews.count()}\")\n",
    "\n",
    "premiere_ligne = neg_reviews.first()\n",
    "print(f\"The first row of the {COLOR_RED}neg_reviews{COLOR_RESET} dataframe is:\")\n",
    "print(f\"  {COLOR_MAGENTA}value{COLOR_RESET}: {premiere_ligne['value']}\")\n",
    "print(f\"  {COLOR_MAGENTA}label{COLOR_RESET}: {premiere_ligne['label']}\")"
   ]
  },
  {
   "attachments": {},
   "cell_type": "markdown",
   "id": "7348052e",
   "metadata": {},
   "source": [
    "We need the data in one DataFrame, for that we'll concatenate the positive and negative movie review DataFrames (`pos_reviews` and `neg_reviews`, respectively) into a single DataFrame called `train_reviews`. This is done using the `union` method, which combines the rows of two DataFrames while preserving the column structure. \n",
    "\n",
    "The resulting `train_reviews` DataFrame contains all of the movie reviews (both positive and negative) and their corresponding labels."
   ]
  },
  {
   "cell_type": "code",
   "execution_count": 21,
   "id": "add23799",
   "metadata": {},
   "outputs": [],
   "source": [
    "train_reviews = pos_reviews.union(neg_reviews)"
   ]
  },
  {
   "cell_type": "code",
   "execution_count": 22,
   "id": "7f3fa929",
   "metadata": {},
   "outputs": [
    {
     "name": "stdout",
     "output_type": "stream",
     "text": [
      "Le DataFrame \u001b[38;5;124mtrain_reviews\u001b[0m contient 25000 lignes\n",
      "\n",
      "Distinct label values in \u001b[38;5;124mtrain_reviews\u001b[0m: [1, 0]\n",
      "\n",
      "The first 10 rows of the \u001b[38;5;124mtrain_reviews\u001b[0m are:\n",
      "+--------------------+-----+\n",
      "|               value|label|\n",
      "+--------------------+-----+\n",
      "|Match 1: Tag Team...|    1|\n",
      "|**Attention Spoil...|    1|\n",
      "|Titanic directed ...|    1|\n",
      "|By now you've pro...|    1|\n",
      "|*!!- SPOILERS - !...|    1|\n",
      "|Warning: Does con...|    1|\n",
      "|Polish film maker...|    1|\n",
      "|Berlin-born in 19...|    1|\n",
      "|I thought that RO...|    1|\n",
      "|CitizenX(1995) is...|    1|\n",
      "+--------------------+-----+\n",
      "only showing top 10 rows\n",
      "\n",
      "None\n",
      "\n",
      "The last 10 rows of the \u001b[38;5;124mtrain_reviews\u001b[0m are:\n",
      "+----------------------------------------------------------------------------------------------------------------------+---------+\n",
      "| value                                                                                                                |   label |\n",
      "|----------------------------------------------------------------------------------------------------------------------+---------|\n",
      "| Unwatchable. You can't even make it past the first three minutes. And this is coming from a huge Adam Sandler fan!!1 |       0 |\n",
      "| Comment this movie is impossible. Is terrible, very improbable, bad interpretation e direction. Not look!!!!!        |       0 |\n",
      "| The characters are unlikeable and the script is awful. It's a waste of the talents of Deneuve and Auteuil.           |       0 |\n",
      "| A rating of \"1\" does not begin to express how dull, depressing and relentlessly bad this movie is.                   |       0 |\n",
      "| no comment - stupid movie, acting average or worse... screenplay - no sense at all... SKIP IT!                       |       0 |\n",
      "| Long, boring, blasphemous. Never have I been so glad to see ending credits roll.                                     |       0 |\n",
      "| You'd better choose Paul Verhoeven's even if you have watched it.                                                    |       0 |\n",
      "| Ming The Merciless does a little Bardwork and a movie most foul!                                                     |       0 |\n",
      "| I wouldn't rent this one even on dollar rental night.                                                                |       0 |\n",
      "| This movie is terrible but it has some good effects.                                                                 |       0 |\n",
      "+----------------------------------------------------------------------------------------------------------------------+---------+\n"
     ]
    }
   ],
   "source": [
    "print(f\"Le DataFrame {COLOR_RED}train_reviews{COLOR_RESET} contient {train_reviews.count()} lignes\")\n",
    "\n",
    "distinct_labels = train_reviews.select(\"label\").distinct()\n",
    "label_list = [row[\"label\"] for row in distinct_labels.collect()]\n",
    "print(f\"\\nDistinct label values in {COLOR_RED}train_reviews{COLOR_RESET}: {label_list}\")\n",
    "\n",
    "print(f\"\\nThe first 10 rows of the {COLOR_RED}train_reviews{COLOR_RESET} are:\")\n",
    "print(train_reviews.show(10))\n",
    "\n",
    "print(f\"\\nThe last 10 rows of the {COLOR_RED}train_reviews{COLOR_RESET} are:\")\n",
    "tail_table = tabulate(train_reviews.tail(10), headers=train_reviews.columns, tablefmt=\"psql\")\n",
    "print(tail_table)"
   ]
  },
  {
   "attachments": {},
   "cell_type": "markdown",
   "id": "d20c3ee3",
   "metadata": {},
   "source": [
    "To shuffle the rows of `train_reviews` DataFrame we'll use the `orderBy()` method with the `rand()` function as the argument. This randomizes the order of the rows in the DataFrame."
   ]
  },
  {
   "cell_type": "code",
   "execution_count": 23,
   "id": "fae5e10c",
   "metadata": {},
   "outputs": [
    {
     "name": "stdout",
     "output_type": "stream",
     "text": [
      "The first 10 rows of the \u001b[38;5;124mtrain_reviews_shuffled\u001b[0m are:\n",
      "+--------------------+-----+\n",
      "|               value|label|\n",
      "+--------------------+-----+\n",
      "|I happened across...|    1|\n",
      "|A tour deforce! O...|    1|\n",
      "|Spanish films are...|    1|\n",
      "|What the heck was...|    0|\n",
      "|I only watched th...|    0|\n",
      "|I had read a few ...|    0|\n",
      "|This is the crapp...|    0|\n",
      "|This movie is not...|    0|\n",
      "|Hood of the Livin...|    0|\n",
      "|Boston legal has ...|    0|\n",
      "+--------------------+-----+\n",
      "only showing top 10 rows\n",
      "\n",
      "None\n"
     ]
    }
   ],
   "source": [
    "train_reviews_shuffled = train_reviews.orderBy(rand())\n",
    "\n",
    "print(f\"The first 10 rows of the {COLOR_RED}train_reviews_shuffled{COLOR_RESET} are:\")\n",
    "print(train_reviews_shuffled.show(10))"
   ]
  },
  {
   "attachments": {},
   "cell_type": "markdown",
   "id": "b9dcbe22",
   "metadata": {},
   "source": [
    "Visualizing the `label` column:"
   ]
  },
  {
   "cell_type": "code",
   "execution_count": 24,
   "id": "8f84344e",
   "metadata": {},
   "outputs": [
    {
     "data": {
      "image/png": "[encoded data removed]",
      "text/plain": [
       "<Figure size 640x480 with 1 Axes>"
      ]
     },
     "metadata": {},
     "output_type": "display_data"
    }
   ],
   "source": [
    "aggregated_data = train_reviews_shuffled.groupBy(\"label\").count().toPandas()\n",
    "\n",
    "total_count = aggregated_data[\"count\"].sum()\n",
    "aggregated_data[\"percentage\"] = aggregated_data[\"count\"] / total_count * 100\n",
    "\n",
    "labels = [\"Negative\", \"Positive\"]\n",
    "sizes = aggregated_data[\"percentage\"]\n",
    "explode = (0.1, 0)\n",
    "\n",
    "fig, ax = plt.subplots()\n",
    "ax.pie(sizes, explode=explode, labels=labels, autopct='%1.1f%%',\n",
    "       shadow=True, startangle=90)\n",
    "ax.axis('equal') \n",
    "\n",
    "plt.title(\"Positive and Negative Data Distribution\")\n",
    "plt.show()"
   ]
  },
  {
   "attachments": {},
   "cell_type": "markdown",
   "id": "dd243a02",
   "metadata": {},
   "source": [
    "<h3 style=\"color:green\"> Preprocess the Data: </h3>"
   ]
  },
  {
   "attachments": {},
   "cell_type": "markdown",
   "id": "e294fd87",
   "metadata": {},
   "source": [
    "Now we move to prepocessing step. First, we'll remove any _HTML tags_ from the `value` column using the `regexp_replace` function from the `pyspark.sql.functions` module. Then, we'll remove any _non-alphabetic characters_ (such as punctuation marks) from the `value` column using the same function. \n",
    "\n",
    "Then we'll use the `transform` method from the `Tokenizer` and `StopWordsRemover` classes to tokenize and remove stop words from the `value` column. The transformed DataFrame will store in the `tokenizedTrain` variable."
   ]
  },
  {
   "cell_type": "code",
   "execution_count": 25,
   "id": "48284b1e",
   "metadata": {},
   "outputs": [
    {
     "name": "stdout",
     "output_type": "stream",
     "text": [
      "+--------------------+-----+--------------------+--------------------+\n",
      "|               value|label|               words|     MeaningfulWords|\n",
      "+--------------------+-----+--------------------+--------------------+\n",
      "|I happened across...|    1|[i, happened, acr...|[happened, across...|\n",
      "|A tour deforce OK...|    1|[a, tour, deforce...|[tour, deforce, o...|\n",
      "|Spanish films are...|    1|[spanish, films, ...|[spanish, films, ...|\n",
      "|What the heck was...|    0|[what, the, heck,...|[heck, somebody, ...|\n",
      "|I only watched th...|    0|[i, only, watched...|[watched, first, ...|\n",
      "+--------------------+-----+--------------------+--------------------+\n",
      "only showing top 5 rows\n",
      "\n"
     ]
    }
   ],
   "source": [
    "train_reviews_shuffled = train_reviews_shuffled.withColumn(\"value\", regexp_replace(\"value\", \"<.*?>\", \"\"))\n",
    "train_reviews_shuffled = train_reviews_shuffled.withColumn(\"value\", regexp_replace(\"value\", \"[^a-zA-Z\\\\s]\", \"\"))\n",
    "\n",
    "tokenizedTrain = tokenizer.transform(train_reviews_shuffled)\n",
    "tokenizedTrain = swr.transform(tokenizedTrain)\n",
    "\n",
    "tokenizedTrain.show(n=5)"
   ]
  },
  {
   "attachments": {},
   "cell_type": "markdown",
   "id": "c65e4c8b",
   "metadata": {},
   "source": [
    "Let's ensure theat the stopwords has been removed by counting the size of `words` and `MeaningfulWords` columns of the 1st row."
   ]
  },
  {
   "cell_type": "code",
   "execution_count": 26,
   "id": "96573b8a",
   "metadata": {},
   "outputs": [
    {
     "name": "stdout",
     "output_type": "stream",
     "text": [
      "Number of words in \u001b[38;5;124mwords\u001b[0m column is: 185\n",
      "Number of words in \u001b[38;5;124mMeaningfulWords\u001b[0m column is: 102\n"
     ]
    }
   ],
   "source": [
    "p1=tokenizedTrain.select(size(\"words\")).first()[0]\n",
    "p2=tokenizedTrain.select(size(\"MeaningfulWords\")).first()[0]\n",
    "print(f\"Number of words in {COLOR_RED}words{COLOR_RESET} column is: {p1}\")\n",
    "print(f\"Number of words in {COLOR_RED}MeaningfulWords{COLOR_RESET} column is: {p2}\")"
   ]
  },
  {
   "attachments": {},
   "cell_type": "markdown",
   "id": "d9454d28",
   "metadata": {},
   "source": [
    "This next code creates a `HashingTF` transformer, which takes the `MeaningfulWords` column from `tokenizedTrain` as input and creates a new column called `features` containing a _vector_ of hashed word frequencies. \n",
    "\n",
    "The transformed data is stored in `numericTrainData`, which is a DataFrame with additional columns `features` and `rawPrediction` containing the hashed word frequency vectors and model predictions, respectively."
   ]
  },
  {
   "cell_type": "code",
   "execution_count": 27,
   "id": "e33b8d6b",
   "metadata": {},
   "outputs": [
    {
     "name": "stdout",
     "output_type": "stream",
     "text": [
      "+--------------------+-----+--------------------+--------------------+--------------------+\n",
      "|               value|label|               words|     MeaningfulWords|            features|\n",
      "+--------------------+-----+--------------------+--------------------+--------------------+\n",
      "|I happened across...|    1|[i, happened, acr...|[happened, across...|(262144,[1004,157...|\n",
      "|A tour deforce OK...|    1|[a, tour, deforce...|[tour, deforce, o...|(262144,[3121,455...|\n",
      "|Spanish films are...|    1|[spanish, films, ...|[spanish, films, ...|(262144,[6034,626...|\n",
      "|What the heck was...|    0|[what, the, heck,...|[heck, somebody, ...|(262144,[511,2751...|\n",
      "|I only watched th...|    0|[i, only, watched...|[watched, first, ...|(262144,[1696,978...|\n",
      "+--------------------+-----+--------------------+--------------------+--------------------+\n",
      "only showing top 5 rows\n",
      "\n"
     ]
    }
   ],
   "source": [
    "hashTF = HashingTF(inputCol=swr.getOutputCol(), outputCol=\"features\")\n",
    "numericTrainData = hashTF.transform(tokenizedTrain)\n",
    "\n",
    "numericTrainData.show(n=5)"
   ]
  },
  {
   "attachments": {},
   "cell_type": "markdown",
   "id": "be2d71e6",
   "metadata": {},
   "source": [
    "<h3 style=\"color:green\"> Modeling </h3>"
   ]
  },
  {
   "attachments": {},
   "cell_type": "markdown",
   "id": "cbb19eb5",
   "metadata": {},
   "source": [
    "For this case, we'll use the logistic regression model and the SVM model. \n",
    "\n"
   ]
  },
  {
   "attachments": {},
   "cell_type": "markdown",
   "id": "b90d7742",
   "metadata": {},
   "source": [
    "#### LOGISTIC REGRESSION"
   ]
  },
  {
   "attachments": {},
   "cell_type": "markdown",
   "id": "70516d85",
   "metadata": {},
   "source": [
    "The logistic regression model is instantiated with the label column specified as `labelCol=\"label\"`, the features column specified as `featuresCol=\"features\"`, the maximum number of iterations to run specified as `maxIter=10`, and the regularization parameter specified as `regParam=0.01`."
   ]
  },
  {
   "cell_type": "code",
   "execution_count": 28,
   "id": "25bc1e6f",
   "metadata": {},
   "outputs": [
    {
     "name": "stdout",
     "output_type": "stream",
     "text": [
      "Training is done!\n"
     ]
    }
   ],
   "source": [
    "lr = LogisticRegression(labelCol=\"label\", featuresCol=\"features\", \n",
    "                        maxIter=10, regParam=0.01)\n",
    "model_lr = lr.fit(numericTrainData)\n",
    "print (\"Training is done!\")"
   ]
  },
  {
   "attachments": {},
   "cell_type": "markdown",
   "id": "7eb2ac54",
   "metadata": {},
   "source": [
    "To test this model we'll use new data; first we should import this data, we'll do the same steps as train data. The test data we'll be stored in `test_reviews` DataFrame."
   ]
  },
  {
   "cell_type": "code",
   "execution_count": 29,
   "id": "1366619a",
   "metadata": {},
   "outputs": [],
   "source": [
    "pos_reviews_test = spark.read.option(\"wholeTextFiles\", \"true\").text(test_pos_path)\n",
    "\n",
    "pos_reviews_test = pos_reviews_test.withColumn(\"label\", lit(1))"
   ]
  },
  {
   "cell_type": "code",
   "execution_count": 30,
   "id": "a49e6747",
   "metadata": {},
   "outputs": [],
   "source": [
    "neg_reviews_test = spark.read.option(\"wholeTextFiles\", \"true\").text(test_neg_path)\n",
    "\n",
    "neg_reviews_test = neg_reviews_test.withColumn(\"label\", lit(0))"
   ]
  },
  {
   "cell_type": "code",
   "execution_count": 31,
   "id": "d695fac7",
   "metadata": {},
   "outputs": [
    {
     "name": "stdout",
     "output_type": "stream",
     "text": [
      "Le DataFrame \u001b[38;5;124mtest_reviews\u001b[0m contient 25000 lignes\n",
      "\n",
      "Distinct label values in \u001b[38;5;124mtest_reviews\u001b[0m: [1, 0]\n",
      "\n",
      "The first 10 rows of the \u001b[38;5;124mtest_reviews\u001b[0m are:\n",
      "+--------------------+-----+\n",
      "|               value|label|\n",
      "+--------------------+-----+\n",
      "|There's a sign on...|    1|\n",
      "|(Some spoilers in...|    1|\n",
      "|Back in the mid/l...|    1|\n",
      "|If anyone ever as...|    1|\n",
      "|Films belonging t...|    1|\n",
      "|The Merchant of V...|    1|\n",
      "|'The Merchant of ...|    1|\n",
      "|The silent film m...|    1|\n",
      "|Without question,...|    1|\n",
      "|\"The belief in th...|    1|\n",
      "+--------------------+-----+\n",
      "only showing top 10 rows\n",
      "\n",
      "None\n",
      "\n",
      "The last 10 rows of the \u001b[38;5;124mtest_reviews\u001b[0m are:\n",
      "+-----------------------------------------------------------------------------------------------------------------------------------+---------+\n",
      "| value                                                                                                                             |   label |\n",
      "|-----------------------------------------------------------------------------------------------------------------------------------+---------|\n",
      "| Widow hires a psychopath as a handyman. Sloppy film noir thriller which doesn't make much of its tension promising set-up. (3/10) |       0 |\n",
      "| Ten minutes of people spewing gallons of pink vomit. Recurring scenes of enormous piles of dog excrement - need one say more???   |       0 |\n",
      "| Don't waste your time and money on it. It's not quite as bad as \"Adrenalin\", by the same director but that's not saying much.     |       0 |\n",
      "| This is a terrible movie, don't waste your money on it. Don't even watch it for free. That's all I have to say.                   |       0 |\n",
      "| Hated it with all my being. Worst movie ever. Mentally- scarred. Help me. It was that bad.TRUST ME!!!                             |       0 |\n",
      "| More suspenseful, more subtle, much, much more disturbing....                                                                     |       0 |\n",
      "| Primary plot!Primary direction!Poor interpretation.                                                                               |       0 |\n",
      "| I hope this group of film-makers never re-unites.                                                                                 |       0 |\n",
      "| What a script, what a story, what a mess!                                                                                         |       0 |\n",
      "| Read the book, forget the movie!                                                                                                  |       0 |\n",
      "+-----------------------------------------------------------------------------------------------------------------------------------+---------+\n"
     ]
    }
   ],
   "source": [
    "test_reviews = pos_reviews_test.union(neg_reviews_test)\n",
    "\n",
    "print(f\"Le DataFrame {COLOR_RED}test_reviews{COLOR_RESET} contient {test_reviews.count()} lignes\")\n",
    "\n",
    "distinct_labels = test_reviews.select(\"label\").distinct()\n",
    "label_list = [row[\"label\"] for row in distinct_labels.collect()]\n",
    "print(f\"\\nDistinct label values in {COLOR_RED}test_reviews{COLOR_RESET}: {label_list}\")\n",
    "\n",
    "print(f\"\\nThe first 10 rows of the {COLOR_RED}test_reviews{COLOR_RESET} are:\")\n",
    "print(test_reviews.show(10))\n",
    "\n",
    "print(f\"\\nThe last 10 rows of the {COLOR_RED}test_reviews{COLOR_RESET} are:\")\n",
    "tail_table = tabulate(test_reviews.tail(10), headers=train_reviews.columns, tablefmt=\"psql\")\n",
    "print(tail_table)\n"
   ]
  },
  {
   "attachments": {},
   "cell_type": "markdown",
   "id": "792d41d6",
   "metadata": {},
   "source": [
    "Shuffle the data of `neg_reviews` DataFrame."
   ]
  },
  {
   "cell_type": "code",
   "execution_count": 32,
   "id": "4d0261bc",
   "metadata": {},
   "outputs": [],
   "source": [
    "test_reviews_shuffled = test_reviews.orderBy(rand())"
   ]
  },
  {
   "attachments": {},
   "cell_type": "markdown",
   "id": "56323ac0",
   "metadata": {},
   "source": [
    "Remove the _HTML tags_ and  _non-alphabetic characters_ (such as punctuation marks) from the `value` column using the `regexp_replace` function from the `pyspark.sql.functions` module."
   ]
  },
  {
   "cell_type": "code",
   "execution_count": 33,
   "id": "80feabee",
   "metadata": {},
   "outputs": [
    {
     "name": "stdout",
     "output_type": "stream",
     "text": [
      "+--------------------+-----+--------------------+--------------------+\n",
      "|               value|label|               words|     MeaningfulWords|\n",
      "+--------------------+-----+--------------------+--------------------+\n",
      "|I cant believe th...|    0|[i, cant, believe...|[cant, believe, a...|\n",
      "|I wasnt even born...|    1|[i, wasnt, even, ...|[wasnt, even, bor...|\n",
      "|This film is bund...|    0|[this, film, is, ...|[film, bundled, a...|\n",
      "|I was invited to ...|    0|[i, was, invited,...|[invited, early, ...|\n",
      "|Believe me when I...|    1|[believe, me, whe...|[believe, say, sh...|\n",
      "+--------------------+-----+--------------------+--------------------+\n",
      "only showing top 5 rows\n",
      "\n"
     ]
    }
   ],
   "source": [
    "test_reviews_shuffled = test_reviews_shuffled.withColumn(\"value\", regexp_replace(\"value\", \"<.*?>\", \"\"))\n",
    "test_reviews_shuffled = test_reviews_shuffled.withColumn(\"value\", regexp_replace(\"value\", \"[^a-zA-Z\\\\s]\", \"\"))\n",
    "\n",
    "tokenizedTest = tokenizer.transform(test_reviews_shuffled)\n",
    "tokenizedTest = swr.transform(tokenizedTest)\n",
    "\n",
    "tokenizedTest.show(n=5)"
   ]
  },
  {
   "attachments": {},
   "cell_type": "markdown",
   "id": "7dd7e649",
   "metadata": {},
   "source": [
    "Vectorizing the data."
   ]
  },
  {
   "cell_type": "code",
   "execution_count": 34,
   "id": "d27f7797",
   "metadata": {},
   "outputs": [
    {
     "name": "stdout",
     "output_type": "stream",
     "text": [
      "+--------------------+-----+--------------------+--------------------+--------------------+\n",
      "|               value|label|               words|     MeaningfulWords|            features|\n",
      "+--------------------+-----+--------------------+--------------------+--------------------+\n",
      "|I cant believe th...|    0|[i, cant, believe...|[cant, believe, a...|(262144,[535,654,...|\n",
      "|I wasnt even born...|    1|[i, wasnt, even, ...|[wasnt, even, bor...|(262144,[4333,538...|\n",
      "|This film is bund...|    0|[this, film, is, ...|[film, bundled, a...|(262144,[1546,169...|\n",
      "|I was invited to ...|    0|[i, was, invited,...|[invited, early, ...|(262144,[1546,243...|\n",
      "|Believe me when I...|    1|[believe, me, whe...|[believe, say, sh...|(262144,[4214,880...|\n",
      "+--------------------+-----+--------------------+--------------------+--------------------+\n",
      "only showing top 5 rows\n",
      "\n"
     ]
    }
   ],
   "source": [
    "numericTestData = hashTF.transform(tokenizedTest)\n",
    "numericTestData.show(n=5)"
   ]
  },
  {
   "attachments": {},
   "cell_type": "markdown",
   "id": "5c3d5789",
   "metadata": {},
   "source": [
    "Now we move to evaluate the performance of the model by computing the AUC on a separate test dataset.\n",
    "\n",
    "First, we'll create a `BinaryClassificationEvaluator` object with the `rawPredictionCol` parameter set to \"rawPrediction\" and the `labelCol` parameter set to \"label\". Then, we use the trained model to make predictions on the preprocessed test dataset `numericTestData` and stores the predictions in the `predictions` dataframe. Finally, we compute the accuracy using the `evaluate` method of the evaluator object on the `predictions` dataframe."
   ]
  },
  {
   "cell_type": "code",
   "execution_count": 35,
   "id": "29cef103",
   "metadata": {},
   "outputs": [
    {
     "name": "stdout",
     "output_type": "stream",
     "text": [
      "Accuraccy: 0.906162\n"
     ]
    }
   ],
   "source": [
    "evaluator = BinaryClassificationEvaluator(rawPredictionCol=\"rawPrediction\", labelCol=\"label\")\n",
    "predictions = model_lr.transform(numericTestData)\n",
    "\n",
    "acc = evaluator.evaluate(predictions)\n",
    "print(\"Accuraccy: %g\" % acc)"
   ]
  },
  {
   "attachments": {},
   "cell_type": "markdown",
   "id": "d5046f2f",
   "metadata": {},
   "source": [
    "Well done! It seems that we have a good model with an `AUC` of 90%.\n",
    "\n",
    "Now let's use another model, the SVM:"
   ]
  },
  {
   "attachments": {},
   "cell_type": "markdown",
   "id": "ade5c5f7",
   "metadata": {},
   "source": [
    "#### SVM"
   ]
  },
  {
   "attachments": {},
   "cell_type": "markdown",
   "id": "93ade58c",
   "metadata": {},
   "source": [
    "The label column is set as `labelCol=\"label\"`, indicating that it refers to the column containing the class labels in the dataset. The features column is set as `featuresCol=\"features\"`, specifying the column that holds the feature vectors used for classification. The maximum number of iterations is set to `maxIter=10`, determining the maximum number of iterations the algorithm will perform to converge to a solution"
   ]
  },
  {
   "cell_type": "code",
   "execution_count": 36,
   "id": "c7b52dbe",
   "metadata": {},
   "outputs": [
    {
     "name": "stdout",
     "output_type": "stream",
     "text": [
      "Done!\n"
     ]
    }
   ],
   "source": [
    "lsvc = LinearSVC(labelCol=\"label\", featuresCol=\"features\", maxIter=10, regParam=0.01)\n",
    "\n",
    "model_svm = lsvc.fit(numericTrainData)\n",
    "\n",
    "print(\"Done!\")"
   ]
  },
  {
   "attachments": {},
   "cell_type": "markdown",
   "id": "72ead105",
   "metadata": {},
   "source": [
    "Now we move to evaluate the performance of the model by computing the AUC on a separate test dataset.\n"
   ]
  },
  {
   "cell_type": "code",
   "execution_count": 37,
   "id": "ba2d48ad",
   "metadata": {},
   "outputs": [
    {
     "name": "stdout",
     "output_type": "stream",
     "text": [
      "Accuracy: 0.85316\n"
     ]
    }
   ],
   "source": [
    "evaluator = MulticlassClassificationEvaluator(labelCol=\"label\", predictionCol=\"prediction\", metricName=\"accuracy\")\n",
    "predictions = model_svm.transform(numericTestData)\n",
    "\n",
    "acc = evaluator.evaluate(predictions)\n",
    "print(\"Accuracy: %g\" % acc)"
   ]
  },
  {
   "attachments": {},
   "cell_type": "markdown",
   "id": "b9ebbd3d",
   "metadata": {},
   "source": [
    "`0.85` for SVM and `0.90` for the logistique regression, both gives great results so we can work either with logReg, SVM, or concatenate them."
   ]
  },
  {
   "attachments": {},
   "cell_type": "markdown",
   "id": "a2191e0f",
   "metadata": {},
   "source": [
    "<h3 style=\"color:green\"> Final Test <h3>"
   ]
  },
  {
   "cell_type": "code",
   "execution_count": 38,
   "id": "faf7bff6",
   "metadata": {},
   "outputs": [
    {
     "name": "stdout",
     "output_type": "stream",
     "text": [
      "+--------------------+\n",
      "|               value|\n",
      "+--------------------+\n",
      "|I recently watche...|\n",
      "|Terrible acting, ...|\n",
      "+--------------------+\n",
      "\n"
     ]
    }
   ],
   "source": [
    "review1 =\"I recently watched the film 'The Shawshank Redemption,' and I must say it is an absolute masterpiece. The storytelling is captivating, and the performances by the cast are outstanding. The character development is exceptional, and you can't help but become emotionally invested in their journeys. The cinematography beautifully captures the essence of the story, and the music perfectly complements the scenes. 'The Shawshank Redemption' is a thought-provoking and inspiring film that leaves a lasting impact. I highly recommend it to anyone looking for a brilliant cinematic experience.\"\n",
    "data = [(review1,)]\n",
    "df = spark.createDataFrame(data, ['value'])\n",
    "\n",
    "review2 = \"Terrible acting, poor script, and predictable plot. This movie was a complete waste of time. I couldn't wait for it to end. Save yourself the disappointment and skip this one.\"\n",
    "new_row = (review2,)\n",
    "\n",
    "# Convert new_row to RDD\n",
    "rdd = spark.sparkContext.parallelize([new_row])\n",
    "\n",
    "# Convert RDD to DataFrame\n",
    "df_review_test = rdd.toDF(['value'])\n",
    "\n",
    "df_review_test = df.union(df_review_test)\n",
    "\n",
    "df_review_test.show()"
   ]
  },
  {
   "cell_type": "code",
   "execution_count": 39,
   "id": "52d8f98e",
   "metadata": {},
   "outputs": [
    {
     "name": "stdout",
     "output_type": "stream",
     "text": [
      "+--------------------+--------------------+--------------------+--------------------+\n",
      "|               value|               words|     MeaningfulWords|            features|\n",
      "+--------------------+--------------------+--------------------+--------------------+\n",
      "|I recently watche...|[i, recently, wat...|[recently, watche...|(262144,[2488,463...|\n",
      "|Terrible acting, ...|[terrible, acting...|[terrible, acting...|(262144,[6767,752...|\n",
      "+--------------------+--------------------+--------------------+--------------------+\n",
      "\n"
     ]
    }
   ],
   "source": [
    "tokenizedreview = tokenizer.transform(df_review_test)\n",
    "tokenizedreview = swr.transform(tokenizedreview)\n",
    "numericTestreview = hashTF.transform(tokenizedreview)\n",
    "numericTestreview.show()"
   ]
  },
  {
   "attachments": {},
   "cell_type": "markdown",
   "id": "73bd477e",
   "metadata": {},
   "source": [
    "Test with SVM"
   ]
  },
  {
   "cell_type": "code",
   "execution_count": 40,
   "id": "7be8cd3e",
   "metadata": {},
   "outputs": [
    {
     "name": "stdout",
     "output_type": "stream",
     "text": [
      "+----------+\n",
      "|prediction|\n",
      "+----------+\n",
      "|       1.0|\n",
      "|       0.0|\n",
      "+----------+\n",
      "\n"
     ]
    }
   ],
   "source": [
    "predictions = model_svm.transform(numericTestreview)\n",
    "\n",
    "predicted_labels_svm = predictions.select(\"prediction\")\n",
    "predicted_labels_svm.show()"
   ]
  },
  {
   "attachments": {},
   "cell_type": "markdown",
   "id": "e1ecb8e1",
   "metadata": {},
   "source": [
    "Test with Logistic Regression"
   ]
  },
  {
   "cell_type": "code",
   "execution_count": 41,
   "id": "a93885de",
   "metadata": {},
   "outputs": [
    {
     "name": "stdout",
     "output_type": "stream",
     "text": [
      "+----------+\n",
      "|prediction|\n",
      "+----------+\n",
      "|       1.0|\n",
      "|       0.0|\n",
      "+----------+\n",
      "\n"
     ]
    }
   ],
   "source": [
    "predictions = model_lr.transform(numericTestreview)\n",
    "\n",
    "predicted_labels_lr = predictions.select(\"prediction\")\n",
    "predicted_labels_lr.show()"
   ]
  }
 ],
 "metadata": {
  "kernelspec": {
   "display_name": "Python 3 (ipykernel)",
   "language": "python",
   "name": "python3"
  },
  "language_info": {
   "codemirror_mode": {
    "name": "ipython",
    "version": 3
   },
   "file_extension": ".py",
   "mimetype": "text/x-python",
   "name": "python",
   "nbconvert_exporter": "python",
   "pygments_lexer": "ipython3",
   "version": "3.10.11"
  }
 },
 "nbformat": 4,
 "nbformat_minor": 5
}
